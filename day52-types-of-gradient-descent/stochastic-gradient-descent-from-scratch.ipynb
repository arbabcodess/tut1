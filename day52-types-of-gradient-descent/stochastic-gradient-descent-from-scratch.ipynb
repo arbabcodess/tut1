{
  "cells": [
    {
      "cell_type": "code",
      "execution_count": null,
      "id": "60e43fd7",
      "metadata": {
        "id": "60e43fd7"
      },
      "outputs": [],
      "source": [
        "from sklearn.datasets import load_diabetes\n",
        "\n",
        "import numpy as np\n",
        "from sklearn.linear_model import LinearRegression\n",
        "from sklearn.metrics import r2_score\n",
        "from sklearn.model_selection import train_test_split\n",
        "import time"
      ]
    },
    {
      "cell_type": "code",
      "execution_count": null,
      "id": "a90f5266",
      "metadata": {
        "id": "a90f5266"
      },
      "outputs": [],
      "source": [
        "X,y = load_diabetes(return_X_y=True)"
      ]
    },
    {
      "cell_type": "code",
      "execution_count": null,
      "id": "51ea6596",
      "metadata": {
        "id": "51ea6596",
        "outputId": "dcf9ee10-9fc3-43fc-afb6-b8eec3607a5a"
      },
      "outputs": [
        {
          "name": "stdout",
          "output_type": "stream",
          "text": [
            "(442, 10)\n",
            "(442,)\n"
          ]
        }
      ],
      "source": [
        "print(X.shape)\n",
        "print(y.shape)"
      ]
    },
    {
      "cell_type": "code",
      "execution_count": null,
      "id": "7077f503",
      "metadata": {
        "id": "7077f503"
      },
      "outputs": [],
      "source": [
        "X_train,X_test,y_train,y_test = train_test_split(X,y,test_size=0.2,random_state=2)"
      ]
    },
    {
      "cell_type": "code",
      "execution_count": null,
      "id": "eb4d3f4e",
      "metadata": {
        "id": "eb4d3f4e",
        "outputId": "386f2903-cf96-4df6-d2a4-cfe1bb8b7033"
      },
      "outputs": [
        {
          "data": {
            "text/plain": [
              "LinearRegression()"
            ]
          },
          "execution_count": 5,
          "metadata": {},
          "output_type": "execute_result"
        }
      ],
      "source": [
        "reg = LinearRegression()\n",
        "reg.fit(X_train,y_train)"
      ]
    },
    {
      "cell_type": "code",
      "execution_count": null,
      "id": "8af3b5af",
      "metadata": {
        "id": "8af3b5af",
        "outputId": "f17faf51-479e-4fef-a62d-a26f16076092"
      },
      "outputs": [
        {
          "name": "stdout",
          "output_type": "stream",
          "text": [
            "[  -9.16088483 -205.46225988  516.68462383  340.62734108 -895.54360867\n",
            "  561.21453306  153.88478595  126.73431596  861.12139955   52.41982836]\n",
            "151.88334520854633\n"
          ]
        }
      ],
      "source": [
        "print(reg.coef_)\n",
        "print(reg.intercept_)"
      ]
    },
    {
      "cell_type": "code",
      "execution_count": null,
      "id": "33459e4e",
      "metadata": {
        "id": "33459e4e",
        "outputId": "93af34d4-9501-4d3a-9994-c658a13dbdd3"
      },
      "outputs": [
        {
          "data": {
            "text/plain": [
              "0.4399387660024645"
            ]
          },
          "execution_count": 7,
          "metadata": {},
          "output_type": "execute_result"
        }
      ],
      "source": [
        "y_pred = reg.predict(X_test)\n",
        "r2_score(y_test,y_pred)"
      ]
    },
    {
      "cell_type": "code",
      "execution_count": null,
      "id": "ed75f3c1",
      "metadata": {
        "id": "ed75f3c1"
      },
      "outputs": [],
      "source": [
        "class SGDRegressor:\n",
        "\n",
        "    def __init__(self,learning_rate=0.01,epochs=100):\n",
        "\n",
        "        self.coef_ = None\n",
        "        self.intercept_ = None\n",
        "        self.lr = learning_rate\n",
        "        self.epochs = epochs\n",
        "\n",
        "    def fit(self,X_train,y_train):\n",
        "        # init your coefs\n",
        "        self.intercept_ = 0\n",
        "        self.coef_ = np.ones(X_train.shape[1])\n",
        "\n",
        "        for i in range(self.epochs):\n",
        "            for j in range(X_train.shape[0]):\n",
        "                idx = np.random.randint(0,X_train.shape[0])\n",
        "\n",
        "                y_hat = np.dot(X_train[idx],self.coef_) + self.intercept_\n",
        "\n",
        "                intercept_der = -2 * (y_train[idx] - y_hat)\n",
        "                self.intercept_ = self.intercept_ - (self.lr * intercept_der)\n",
        "\n",
        "                coef_der = -2 * np.dot((y_train[idx] - y_hat),X_train[idx])\n",
        "                self.coef_ = self.coef_ - (self.lr * coef_der)\n",
        "\n",
        "        print(self.intercept_,self.coef_)\n",
        "\n",
        "    def predict(self,X_test):\n",
        "        return np.dot(X_test,self.coef_) + self.intercept_"
      ]
    },
    {
      "cell_type": "code",
      "execution_count": null,
      "id": "028e7219",
      "metadata": {
        "id": "028e7219"
      },
      "outputs": [],
      "source": [
        "sgd = SGDRegressor(learning_rate=0.01,epochs=40)"
      ]
    },
    {
      "cell_type": "code",
      "execution_count": null,
      "id": "aafb36fa",
      "metadata": {
        "id": "aafb36fa",
        "outputId": "56fd65c8-400c-4e43-aa89-40419f6fac3a"
      },
      "outputs": [
        {
          "name": "stdout",
          "output_type": "stream",
          "text": [
            "157.2641767094034 [  58.34618831  -41.65635944  314.02875897  219.47021721   30.2641263\n",
            "   -8.98591625 -165.98040412  132.42543708  294.42536821  122.71528461]\n",
            "The time taken is 0.17459607124328613\n"
          ]
        }
      ],
      "source": [
        "start = time.time()\n",
        "sgd.fit(X_train,y_train)\n",
        "print(\"The time taken is\",time.time() - start)"
      ]
    },
    {
      "cell_type": "code",
      "execution_count": null,
      "id": "829e9938",
      "metadata": {
        "id": "829e9938"
      },
      "outputs": [],
      "source": [
        "y_pred = sgd.predict(X_test)"
      ]
    },
    {
      "cell_type": "code",
      "execution_count": null,
      "id": "128832b0",
      "metadata": {
        "id": "128832b0",
        "outputId": "1f925bc9-aa89-4ba1-fbba-3d375bc4c477"
      },
      "outputs": [
        {
          "data": {
            "text/plain": [
              "0.4205755931585481"
            ]
          },
          "execution_count": 62,
          "metadata": {},
          "output_type": "execute_result"
        }
      ],
      "source": [
        "r2_score(y_test,y_pred)"
      ]
    },
    {
      "cell_type": "code",
      "execution_count": null,
      "id": "457600ac",
      "metadata": {
        "id": "457600ac"
      },
      "outputs": [],
      "source": [
        "from sklearn.linear_model import SGDRegressor"
      ]
    },
    {
      "cell_type": "code",
      "execution_count": null,
      "id": "fdd03179",
      "metadata": {
        "id": "fdd03179"
      },
      "outputs": [],
      "source": [
        "reg = SGDRegressor(max_iter=100,learning_rate='constant',eta0=0.01)"
      ]
    },
    {
      "cell_type": "code",
      "execution_count": null,
      "id": "37fd9602",
      "metadata": {
        "id": "37fd9602",
        "outputId": "97cc13f4-481f-4f8a-d253-72ac1851ddac"
      },
      "outputs": [
        {
          "name": "stderr",
          "output_type": "stream",
          "text": [
            "C:\\Users\\91842\\anaconda3\\lib\\site-packages\\sklearn\\linear_model\\_stochastic_gradient.py:1220: ConvergenceWarning: Maximum number of iteration reached before convergence. Consider increasing max_iter to improve the fit.\n",
            "  warnings.warn(\"Maximum number of iteration reached before \"\n"
          ]
        },
        {
          "data": {
            "text/plain": [
              "SGDRegressor(learning_rate='constant', max_iter=100)"
            ]
          },
          "execution_count": 90,
          "metadata": {},
          "output_type": "execute_result"
        }
      ],
      "source": [
        "reg.fit(X_train,y_train)"
      ]
    },
    {
      "cell_type": "code",
      "execution_count": null,
      "id": "6e28beda",
      "metadata": {
        "id": "6e28beda"
      },
      "outputs": [],
      "source": [
        "y_pred = reg.predict(X_test)"
      ]
    },
    {
      "cell_type": "code",
      "execution_count": null,
      "id": "3d3d24d4",
      "metadata": {
        "id": "3d3d24d4",
        "outputId": "ac87321f-959d-416b-aef0-954dd9247310"
      },
      "outputs": [
        {
          "data": {
            "text/plain": [
              "0.43059547063734904"
            ]
          },
          "execution_count": 92,
          "metadata": {},
          "output_type": "execute_result"
        }
      ],
      "source": [
        "r2_score(y_test,y_pred)"
      ]
    },
    {
      "cell_type": "code",
      "execution_count": null,
      "id": "eea1ab2a",
      "metadata": {
        "id": "eea1ab2a"
      },
      "outputs": [],
      "source": []
    },
    {
      "cell_type": "code",
      "execution_count": null,
      "id": "4284bb71",
      "metadata": {
        "id": "4284bb71"
      },
      "outputs": [],
      "source": []
    }
  ],
  "metadata": {
    "kernelspec": {
      "display_name": "Python 3",
      "language": "python",
      "name": "python3"
    },
    "language_info": {
      "codemirror_mode": {
        "name": "ipython",
        "version": 3
      },
      "file_extension": ".py",
      "mimetype": "text/x-python",
      "name": "python",
      "nbconvert_exporter": "python",
      "pygments_lexer": "ipython3",
      "version": "3.8.8"
    },
    "colab": {
      "provenance": []
    }
  },
  "nbformat": 4,
  "nbformat_minor": 5
}